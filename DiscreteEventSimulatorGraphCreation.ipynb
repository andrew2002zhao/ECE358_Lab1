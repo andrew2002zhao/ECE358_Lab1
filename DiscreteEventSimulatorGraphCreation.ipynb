{
 "cells": [
  {
   "cell_type": "code",
   "execution_count": 33,
   "source": [
    "df = pd.read_csv('M_M_1_Simulation.csv')"
   ],
   "outputs": [],
   "metadata": {}
  },
  {
   "cell_type": "code",
   "execution_count": 34,
   "source": [
    "df.head(10)\n",
    ""
   ],
   "outputs": [
    {
     "output_type": "execute_result",
     "data": {
      "text/html": [
       "<div>\n",
       "<style scoped>\n",
       "    .dataframe tbody tr th:only-of-type {\n",
       "        vertical-align: middle;\n",
       "    }\n",
       "\n",
       "    .dataframe tbody tr th {\n",
       "        vertical-align: top;\n",
       "    }\n",
       "\n",
       "    .dataframe thead th {\n",
       "        text-align: right;\n",
       "    }\n",
       "</style>\n",
       "<table border=\"1\" class=\"dataframe\">\n",
       "  <thead>\n",
       "    <tr style=\"text-align: right;\">\n",
       "      <th></th>\n",
       "      <th>Unnamed: 0</th>\n",
       "      <th>rho</th>\n",
       "      <th>E[N]_1</th>\n",
       "      <th>P_idle_1</th>\n",
       "      <th>E[N]_2</th>\n",
       "      <th>P_idle_2</th>\n",
       "      <th>Within_95%_to_105%</th>\n",
       "    </tr>\n",
       "  </thead>\n",
       "  <tbody>\n",
       "    <tr>\n",
       "      <th>0</th>\n",
       "      <td>0</td>\n",
       "      <td>0.25</td>\n",
       "      <td>0.334743</td>\n",
       "      <td>0.749552</td>\n",
       "      <td>0.333747</td>\n",
       "      <td>0.749556</td>\n",
       "      <td>0.297520</td>\n",
       "    </tr>\n",
       "    <tr>\n",
       "      <th>1</th>\n",
       "      <td>1</td>\n",
       "      <td>0.35</td>\n",
       "      <td>0.542440</td>\n",
       "      <td>0.646976</td>\n",
       "      <td>0.533986</td>\n",
       "      <td>0.651137</td>\n",
       "      <td>1.558614</td>\n",
       "    </tr>\n",
       "    <tr>\n",
       "      <th>2</th>\n",
       "      <td>2</td>\n",
       "      <td>0.45</td>\n",
       "      <td>0.808022</td>\n",
       "      <td>0.551026</td>\n",
       "      <td>0.813769</td>\n",
       "      <td>0.551856</td>\n",
       "      <td>0.711282</td>\n",
       "    </tr>\n",
       "    <tr>\n",
       "      <th>3</th>\n",
       "      <td>3</td>\n",
       "      <td>0.55</td>\n",
       "      <td>1.204021</td>\n",
       "      <td>0.452659</td>\n",
       "      <td>1.221977</td>\n",
       "      <td>0.450414</td>\n",
       "      <td>1.491285</td>\n",
       "    </tr>\n",
       "    <tr>\n",
       "      <th>4</th>\n",
       "      <td>4</td>\n",
       "      <td>0.65</td>\n",
       "      <td>1.849322</td>\n",
       "      <td>0.351456</td>\n",
       "      <td>1.864864</td>\n",
       "      <td>0.349543</td>\n",
       "      <td>0.840415</td>\n",
       "    </tr>\n",
       "    <tr>\n",
       "      <th>5</th>\n",
       "      <td>5</td>\n",
       "      <td>0.75</td>\n",
       "      <td>2.986268</td>\n",
       "      <td>0.250931</td>\n",
       "      <td>3.027597</td>\n",
       "      <td>0.248350</td>\n",
       "      <td>1.383981</td>\n",
       "    </tr>\n",
       "    <tr>\n",
       "      <th>6</th>\n",
       "      <td>6</td>\n",
       "      <td>0.85</td>\n",
       "      <td>5.700064</td>\n",
       "      <td>0.150451</td>\n",
       "      <td>5.522797</td>\n",
       "      <td>0.151859</td>\n",
       "      <td>3.109916</td>\n",
       "    </tr>\n",
       "    <tr>\n",
       "      <th>7</th>\n",
       "      <td>7</td>\n",
       "      <td>0.95</td>\n",
       "      <td>19.880654</td>\n",
       "      <td>0.050220</td>\n",
       "      <td>19.490696</td>\n",
       "      <td>0.048915</td>\n",
       "      <td>1.961495</td>\n",
       "    </tr>\n",
       "  </tbody>\n",
       "</table>\n",
       "</div>"
      ],
      "text/plain": [
       "   Unnamed: 0   rho     E[N]_1  P_idle_1     E[N]_2  P_idle_2  \\\n",
       "0           0  0.25   0.334743  0.749552   0.333747  0.749556   \n",
       "1           1  0.35   0.542440  0.646976   0.533986  0.651137   \n",
       "2           2  0.45   0.808022  0.551026   0.813769  0.551856   \n",
       "3           3  0.55   1.204021  0.452659   1.221977  0.450414   \n",
       "4           4  0.65   1.849322  0.351456   1.864864  0.349543   \n",
       "5           5  0.75   2.986268  0.250931   3.027597  0.248350   \n",
       "6           6  0.85   5.700064  0.150451   5.522797  0.151859   \n",
       "7           7  0.95  19.880654  0.050220  19.490696  0.048915   \n",
       "\n",
       "   Within_95%_to_105%  \n",
       "0            0.297520  \n",
       "1            1.558614  \n",
       "2            0.711282  \n",
       "3            1.491285  \n",
       "4            0.840415  \n",
       "5            1.383981  \n",
       "6            3.109916  \n",
       "7            1.961495  "
      ]
     },
     "metadata": {},
     "execution_count": 34
    }
   ],
   "metadata": {}
  },
  {
   "cell_type": "code",
   "execution_count": 45,
   "source": [
    "\n",
    "\n",
    "X = df['rho'].to_list()\n",
    "Y = df['E[N]_1'].to_list()\n",
    "\n",
    "plt.plot(X, Y)\n",
    "plt.title('E[N] vs Rho')\n",
    "plt.xlabel('Rho')\n",
    "plt.ylabel('E[N]')\n",
    "\n",
    "plt.show()\n",
    "plt.savefig(\"Ep.pdf\")"
   ],
   "outputs": [
    {
     "output_type": "stream",
     "name": "stderr",
     "text": [
      "<ipython-input-45-a70e895a80b2>:9: UserWarning: Matplotlib is currently using agg, which is a non-GUI backend, so cannot show the figure.\n",
      "  plt.show()\n"
     ]
    }
   ],
   "metadata": {}
  },
  {
   "cell_type": "code",
   "execution_count": 46,
   "source": [
    "\n",
    "\n",
    "X = df['rho'].to_list()\n",
    "Y = df['E[N]_1'].to_list()\n",
    "\n",
    "plt.plot(X, Y, 'bo-')\n",
    "plt.title('E[N] vs Rho')\n",
    "plt.xlabel('Rho')\n",
    "plt.ylabel('E[N]')\n",
    "\n",
    "plt.show()\n",
    "plt.savefig(\"Ep.pdf\")"
   ],
   "outputs": [
    {
     "output_type": "stream",
     "name": "stderr",
     "text": [
      "<ipython-input-46-e895fe456fd8>:9: UserWarning: Matplotlib is currently using agg, which is a non-GUI backend, so cannot show the figure.\n",
      "  plt.show()\n"
     ]
    }
   ],
   "metadata": {}
  },
  {
   "cell_type": "code",
   "execution_count": 47,
   "source": [
    "\n",
    "\n",
    "X = df['rho'].round(3).to_list()\n",
    "Y = df['P_idle_1'].round(3).to_list()\n",
    "\n",
    "plt.plot(X, Y, 'bo-')\n",
    "plt.title('Pidle vs Rho')\n",
    "plt.xlabel('Rho')\n",
    "plt.ylabel('Pidle')\n",
    "\n",
    "plt.show()\n",
    "plt.savefig(\"PidlevsRhoMM1.pdf\")"
   ],
   "outputs": [
    {
     "output_type": "stream",
     "name": "stderr",
     "text": [
      "<ipython-input-47-53008931ce6a>:9: UserWarning: Matplotlib is currently using agg, which is a non-GUI backend, so cannot show the figure.\n",
      "  plt.show()\n"
     ]
    }
   ],
   "metadata": {}
  },
  {
   "cell_type": "code",
   "execution_count": 48,
   "source": [
    "\n",
    "\n",
    "X = df['rho'].round(3).to_list()\n",
    "Y = df['P_idle_1'].round(3).to_list()\n",
    "plt.clf()\n",
    "plt.plot(X, Y, 'bo-')\n",
    "plt.title('Pidle vs Rho')\n",
    "plt.xlabel('Rho')\n",
    "plt.ylabel('Pidle')\n",
    "\n",
    "plt.show()\n",
    "plt.savefig(\"PidlevsRhoMM1.pdf\")"
   ],
   "outputs": [
    {
     "output_type": "stream",
     "name": "stderr",
     "text": [
      "<ipython-input-48-743b6bab0ca4>:9: UserWarning: Matplotlib is currently using agg, which is a non-GUI backend, so cannot show the figure.\n",
      "  plt.show()\n"
     ]
    }
   ],
   "metadata": {}
  },
  {
   "cell_type": "code",
   "execution_count": 49,
   "source": [
    "\n",
    "df = pd.read_csv('M_M_1_K_Simulation.csv')\n",
    "\n",
    "X = df['rho'].round(3).to_list()\n",
    "Y1 = df['E[N]_10_1'].round(3).to_list()\n",
    "Y2 = df['E[N]_25_1'].round(3).to_list()\n",
    "Y3 = df['E[N]_50_1'].round(3).to_list()\n",
    "\n",
    "\n",
    "plt.clf()\n",
    "plt.plot(X, Y1, 'bo-', label='Capacity 10')\n",
    "plt.plot(X, Y2, 'ro-', label='Capacity 25')\n",
    "plt.plot(X, Y3, 'go-', label=\"Capacity 50\")\n",
    "plt.legend()\n",
    "plt.title('E[N] vs Rho')\n",
    "plt.xlabel('Rho')\n",
    "plt.ylabel('E[N]')\n",
    "\n",
    "plt.show()\n",
    "plt.savefig(\"AveragePacketsvsRhoMM1K.pdf\")"
   ],
   "outputs": [
    {
     "output_type": "stream",
     "name": "stderr",
     "text": [
      "<ipython-input-49-9533992bae33>:18: UserWarning: Matplotlib is currently using agg, which is a non-GUI backend, so cannot show the figure.\n",
      "  plt.show()\n"
     ]
    }
   ],
   "metadata": {}
  },
  {
   "cell_type": "code",
   "execution_count": 50,
   "source": [
    "\n",
    "df = pd.read_csv('M_M_1_K_Simulation.csv')\n",
    "\n",
    "X = df['rho'].round(3).to_list()\n",
    "Y1 = df['E[N]_10_1'].round(3).to_list()\n",
    "Y2 = df['E[N]_25_1'].round(3).to_list()\n",
    "Y3 = df['E[N]_50_1'].round(3).to_list()\n",
    "\n",
    "\n",
    "plt.clf()\n",
    "plt.plot(X, Y1, 'bo-', label='Capacity 10')\n",
    "plt.plot(X, Y2, 'ro-', label='Capacity 25')\n",
    "plt.plot(X, Y3, 'go-', label=\"Capacity 50\")\n",
    "plt.legend()\n",
    "plt.title('E[N] vs Rho')\n",
    "plt.xlabel('Rho')\n",
    "plt.ylabel('E[N]')\n",
    "plt.tight_layout()\n",
    "\n",
    "plt.show()\n",
    "plt.savefig(\"AveragePacketsvsRhoMM1K.pdf\")"
   ],
   "outputs": [
    {
     "output_type": "stream",
     "name": "stderr",
     "text": [
      "<ipython-input-50-19b3d8d2d7bf>:19: UserWarning: Matplotlib is currently using agg, which is a non-GUI backend, so cannot show the figure.\n",
      "  plt.show()\n"
     ]
    }
   ],
   "metadata": {}
  },
  {
   "cell_type": "code",
   "execution_count": 52,
   "source": [
    "\n",
    "df = pd.read_csv('M_M_1_K_Simulation.csv')\n",
    "\n",
    "X = df['rho'].round(3).to_list()\n",
    "Y1 = df['P_loss_10_1'].round(3).to_list()\n",
    "Y2 = df['P_loss_25_1'].round(3).to_list()\n",
    "Y3 = df['P_loss_50_1'].round(3).to_list()\n",
    "\n",
    "\n",
    "plt.clf()\n",
    "plt.plot(X, Y1, 'bo-', label='Capacity 10')\n",
    "plt.plot(X, Y2, 'ro-', label='Capacity 25')\n",
    "plt.plot(X, Y3, 'go-', label=\"Capacity 50\")\n",
    "plt.legend()\n",
    "plt.title('Pidle vs Rho')\n",
    "plt.xlabel('Rho')\n",
    "plt.ylabel('Pidle')\n",
    "plt.tight_layout()\n",
    "\n",
    "plt.show()\n",
    "plt.savefig(\"PidlevsRhoMM1K.pdf\")"
   ],
   "outputs": [
    {
     "output_type": "stream",
     "name": "stderr",
     "text": [
      "<ipython-input-52-f1591799df64>:19: UserWarning: Matplotlib is currently using agg, which is a non-GUI backend, so cannot show the figure.\n",
      "  plt.show()\n"
     ]
    }
   ],
   "metadata": {}
  },
  {
   "cell_type": "code",
   "execution_count": 53,
   "source": [
    "\n",
    "df = pd.read_csv('M_M_1_K_Simulation.csv')\n",
    "\n",
    "X = df['rho'].round(3).to_list()\n",
    "Y1 = df['P_loss_10_1'].round(3).to_list()\n",
    "Y2 = df['P_loss_25_1'].round(3).to_list()\n",
    "Y3 = df['P_loss_50_1'].round(3).to_list()\n",
    "\n",
    "\n",
    "plt.clf()\n",
    "plt.plot(X, Y1, 'bo-', label='Capacity 10')\n",
    "plt.plot(X, Y2, 'ro-', label='Capacity 25')\n",
    "plt.plot(X, Y3, 'go-', label=\"Capacity 50\")\n",
    "plt.legend()\n",
    "plt.title('PLoss vs Rho')\n",
    "plt.xlabel('Rho')\n",
    "plt.ylabel('PLoss')\n",
    "plt.tight_layout()\n",
    "\n",
    "plt.show()\n",
    "plt.savefig(\"PLossvsRhoMM1K.pdf\")"
   ],
   "outputs": [
    {
     "output_type": "stream",
     "name": "stderr",
     "text": [
      "<ipython-input-53-06bc91d8dee2>:19: UserWarning: Matplotlib is currently using agg, which is a non-GUI backend, so cannot show the figure.\n",
      "  plt.show()\n"
     ]
    }
   ],
   "metadata": {}
  }
 ],
 "nbformat": 4,
 "nbformat_minor": 2,
 "metadata": {
  "language_info": {
   "codemirror_mode": {
    "name": "ipython",
    "version": 3
   },
   "file_extension": ".py",
   "mimetype": "text/x-python",
   "name": "python",
   "nbconvert_exporter": "python",
   "pygments_lexer": "ipython3",
   "version": 3
  },
  "orig_nbformat": 4
 }
}